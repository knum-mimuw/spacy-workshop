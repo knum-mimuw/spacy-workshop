{
 "cells": [
  {
   "cell_type": "code",
   "execution_count": 1,
   "metadata": {},
   "outputs": [],
   "source": [
    "import xml.etree.ElementTree as et\n",
    "import json"
   ]
  },
  {
   "cell_type": "code",
   "execution_count": 2,
   "metadata": {},
   "outputs": [],
   "source": [
    "tr=et.parse('ABSA16_Restaurants_Train_SB1_v2.xml')\n",
    "\n",
    "root=tr.getroot()"
   ]
  },
  {
   "cell_type": "code",
   "execution_count": 3,
   "metadata": {},
   "outputs": [],
   "source": [
    "empty_opinion={'category': None,\n",
    "                  'from':0,\n",
    "                  'polarity': 'neutral',\n",
    "                  'to':0,\n",
    "                  'target':'NULL'}\n",
    "\n",
    "def parse_reviews(reviews):\n",
    "    sentences=[]\n",
    "    for review in reviews:\n",
    "        for sentence in review[0]:\n",
    "            sentences.append(sentence)\n",
    "            \n",
    "    return [parse_sentence(sentence) for sentence in sentences]\n",
    "\n",
    "def parse_sentence(sentence):\n",
    "    text=sentence[0]\n",
    "    try:\n",
    "        opinions = sentence[1]\n",
    "        parsed_opinions=parse_opinions(opinions)\n",
    "    except IndexError:\n",
    "        parsed_opinions = [empty_opinion]\n",
    "    \n",
    "    return {'text': parse_text(text),\n",
    "            'opinions': parsed_opinions}\n",
    "\n",
    "\n",
    "def parse_opinions(opinions):\n",
    "    assert(opinions.tag=='Opinions')\n",
    "    parsed_opinions=[]\n",
    "    for opinion in opinions:\n",
    "        atr = opinion.attrib\n",
    "        atr['from'] = int(atr['from'])\n",
    "        atr['to'] = int(atr['to'])\n",
    "        parsed_opinions.append(atr)\n",
    "    return parsed_opinions\n",
    "\n",
    "\n",
    "def parse_text(text):\n",
    "    assert(text.tag=='text')\n",
    "    return text.text"
   ]
  },
  {
   "cell_type": "code",
   "execution_count": 4,
   "metadata": {},
   "outputs": [],
   "source": [
    "result=parse_reviews(root)"
   ]
  },
  {
   "cell_type": "code",
   "execution_count": 5,
   "metadata": {},
   "outputs": [],
   "source": [
    "with open('data.json', 'w') as f:\n",
    "    json.dump(result, f)"
   ]
  },
  {
   "cell_type": "code",
   "execution_count": null,
   "metadata": {},
   "outputs": [],
   "source": []
  }
 ],
 "metadata": {
  "kernelspec": {
   "display_name": "Python [conda env:anaconda3]",
   "language": "python",
   "name": "conda-env-anaconda3-py"
  },
  "language_info": {
   "codemirror_mode": {
    "name": "ipython",
    "version": 3
   },
   "file_extension": ".py",
   "mimetype": "text/x-python",
   "name": "python",
   "nbconvert_exporter": "python",
   "pygments_lexer": "ipython3",
   "version": "3.6.4"
  },
  "toc": {
   "base_numbering": 1,
   "nav_menu": {},
   "number_sections": false,
   "sideBar": false,
   "skip_h1_title": false,
   "title_cell": "Table of Contents",
   "title_sidebar": "Contents",
   "toc_cell": false,
   "toc_position": {},
   "toc_section_display": false,
   "toc_window_display": false
  }
 },
 "nbformat": 4,
 "nbformat_minor": 2
}
